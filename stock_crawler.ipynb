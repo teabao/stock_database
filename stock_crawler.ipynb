{
 "cells": [
  {
   "cell_type": "code",
   "execution_count": 46,
   "metadata": {},
   "outputs": [],
   "source": [
    "# http://www.twse.com.tw/exchangeReport/STOCK_DAY_ALL?response=open_data\n",
    "# https://query1.finance.yahoo.com/v7/finance/download/0050.TW?period1=0&period2=9999999999&interval=1d&events=history\n",
    "import os\n",
    "import requests\n",
    "import csv\n",
    "from contextlib import closing\n",
    "\n",
    "\n",
    "# 開啟 CSV 檔案\n",
    "with open('STOCK_DAY_ALL.csv',encoding=\"utf-8\") as csvFile:\n",
    "    rows = csv.DictReader(csvFile)\n",
    "    for row in rows:\n",
    "        stock_code = row['證券代號']\n",
    "        url='https://query1.finance.yahoo.com/v7/finance/download/'+stock_code+'.TW'+'?period1=0&period2=9999999999&interval=1d&events=history'\n",
    "        \n",
    "        with closing(requests.get(url, stream=True)) as r:\n",
    "            f = (line.decode('utf-8') for line in r.iter_lines())\n",
    "            reader = csv.reader(f, delimiter=',', quotechar='\"')\n",
    "            f_name = stock_code+\".csv\"\n",
    "            \n",
    "            f = open(\"history/\"+f_name, 'w+', encoding='utf-8', newline='')\n",
    "            csv_writer = csv.writer(f)\n",
    "            for row in reader:\n",
    "                csv_writer.writerow(row)\n",
    "            f.close()\n"
   ]
  }
 ],
 "metadata": {
  "kernelspec": {
   "display_name": "Python 3",
   "language": "python",
   "name": "python3"
  },
  "language_info": {
   "codemirror_mode": {
    "name": "ipython",
    "version": 3
   },
   "file_extension": ".py",
   "mimetype": "text/x-python",
   "name": "python",
   "nbconvert_exporter": "python",
   "pygments_lexer": "ipython3",
   "version": "3.8.2"
  }
 },
 "nbformat": 4,
 "nbformat_minor": 4
}
